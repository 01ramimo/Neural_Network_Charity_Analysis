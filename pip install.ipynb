{
 "cells": [
  {
   "cell_type": "code",
   "execution_count": 1,
   "id": "a2fcb3af",
   "metadata": {},
   "outputs": [
    {
     "name": "stdout",
     "output_type": "stream",
     "text": [
      "Collecting tensorflow\n",
      "  Downloading tensorflow-2.8.0-cp37-cp37m-win_amd64.whl (437.9 MB)\n",
      "     -------------------------------------- 437.9/437.9 MB 3.3 MB/s eta 0:00:00\n",
      "Collecting tf-estimator-nightly==2.8.0.dev2021122109\n",
      "  Downloading tf_estimator_nightly-2.8.0.dev2021122109-py2.py3-none-any.whl (462 kB)\n",
      "     ------------------------------------- 462.5/462.5 KB 30.1 MB/s eta 0:00:00\n",
      "Collecting google-pasta>=0.1.1\n",
      "  Downloading google_pasta-0.2.0-py3-none-any.whl (57 kB)\n",
      "     ---------------------------------------- 57.5/57.5 KB ? eta 0:00:00\n",
      "Collecting keras-preprocessing>=1.1.1\n",
      "  Downloading Keras_Preprocessing-1.1.2-py2.py3-none-any.whl (42 kB)\n",
      "     ---------------------------------------- 42.6/42.6 KB 2.0 MB/s eta 0:00:00\n",
      "Requirement already satisfied: six>=1.12.0 in c:\\users\\01ram\\anaconda3\\envs\\pythondata\\lib\\site-packages (from tensorflow) (1.15.0)\n",
      "Collecting opt-einsum>=2.3.2\n",
      "  Downloading opt_einsum-3.3.0-py3-none-any.whl (65 kB)\n",
      "     ---------------------------------------- 65.5/65.5 KB 3.5 MB/s eta 0:00:00\n",
      "Requirement already satisfied: wrapt>=1.11.0 in c:\\users\\01ram\\anaconda3\\envs\\pythondata\\lib\\site-packages (from tensorflow) (1.12.1)\n",
      "Collecting protobuf>=3.9.2\n",
      "  Downloading protobuf-3.19.4-cp37-cp37m-win_amd64.whl (896 kB)\n",
      "     ------------------------------------- 896.4/896.4 KB 28.6 MB/s eta 0:00:00\n",
      "Requirement already satisfied: typing-extensions>=3.6.6 in c:\\users\\01ram\\anaconda3\\envs\\pythondata\\lib\\site-packages (from tensorflow) (4.0.1)\n",
      "Collecting absl-py>=0.4.0\n",
      "  Downloading absl_py-1.0.0-py3-none-any.whl (126 kB)\n",
      "     ---------------------------------------- 126.7/126.7 KB ? eta 0:00:00\n",
      "Collecting gast>=0.2.1\n",
      "  Downloading gast-0.5.3-py3-none-any.whl (19 kB)\n",
      "Collecting flatbuffers>=1.12\n",
      "  Downloading flatbuffers-2.0-py2.py3-none-any.whl (26 kB)\n",
      "Requirement already satisfied: h5py>=2.9.0 in c:\\users\\01ram\\anaconda3\\envs\\pythondata\\lib\\site-packages (from tensorflow) (2.10.0)\n",
      "Collecting tensorflow-io-gcs-filesystem>=0.23.1\n",
      "  Downloading tensorflow_io_gcs_filesystem-0.24.0-cp37-cp37m-win_amd64.whl (1.5 MB)\n",
      "     ---------------------------------------- 1.5/1.5 MB 30.7 MB/s eta 0:00:00\n",
      "Collecting libclang>=9.0.1\n",
      "  Downloading libclang-13.0.0-py2.py3-none-win_amd64.whl (13.9 MB)\n",
      "     --------------------------------------- 13.9/13.9 MB 21.1 MB/s eta 0:00:00\n",
      "Requirement already satisfied: numpy>=1.20 in c:\\users\\01ram\\anaconda3\\envs\\pythondata\\lib\\site-packages (from tensorflow) (1.20.1)\n",
      "Collecting grpcio<2.0,>=1.24.3\n",
      "  Downloading grpcio-1.43.0-cp37-cp37m-win_amd64.whl (3.3 MB)\n",
      "     ---------------------------------------- 3.3/3.3 MB 26.5 MB/s eta 0:00:00\n",
      "Collecting tensorboard<2.9,>=2.8\n",
      "  Downloading tensorboard-2.8.0-py3-none-any.whl (5.8 MB)\n",
      "     ---------------------------------------- 5.8/5.8 MB 19.4 MB/s eta 0:00:00\n",
      "Collecting termcolor>=1.1.0\n",
      "  Downloading termcolor-1.1.0.tar.gz (3.9 kB)\n",
      "  Preparing metadata (setup.py): started\n",
      "  Preparing metadata (setup.py): finished with status 'done'\n",
      "Collecting astunparse>=1.6.0\n",
      "  Downloading astunparse-1.6.3-py2.py3-none-any.whl (12 kB)\n",
      "Collecting keras<2.9,>=2.8.0rc0\n",
      "  Downloading keras-2.8.0-py2.py3-none-any.whl (1.4 MB)\n",
      "     ---------------------------------------- 1.4/1.4 MB 22.1 MB/s eta 0:00:00\n",
      "Requirement already satisfied: setuptools in c:\\users\\01ram\\anaconda3\\envs\\pythondata\\lib\\site-packages (from tensorflow) (52.0.0.post20210125)\n",
      "Requirement already satisfied: wheel<1.0,>=0.23.0 in c:\\users\\01ram\\anaconda3\\envs\\pythondata\\lib\\site-packages (from astunparse>=1.6.0->tensorflow) (0.36.2)\n",
      "Collecting tensorboard-plugin-wit>=1.6.0\n",
      "  Downloading tensorboard_plugin_wit-1.8.1-py3-none-any.whl (781 kB)\n",
      "     ------------------------------------- 781.3/781.3 KB 24.1 MB/s eta 0:00:00\n",
      "Requirement already satisfied: werkzeug>=0.11.15 in c:\\users\\01ram\\anaconda3\\envs\\pythondata\\lib\\site-packages (from tensorboard<2.9,>=2.8->tensorflow) (1.0.1)\n",
      "Requirement already satisfied: requests<3,>=2.21.0 in c:\\users\\01ram\\anaconda3\\envs\\pythondata\\lib\\site-packages (from tensorboard<2.9,>=2.8->tensorflow) (2.25.1)\n",
      "Collecting google-auth-oauthlib<0.5,>=0.4.1\n",
      "  Downloading google_auth_oauthlib-0.4.6-py2.py3-none-any.whl (18 kB)\n",
      "Collecting tensorboard-data-server<0.7.0,>=0.6.0\n",
      "  Downloading tensorboard_data_server-0.6.1-py3-none-any.whl (2.4 kB)\n",
      "Requirement already satisfied: markdown>=2.6.8 in c:\\users\\01ram\\anaconda3\\envs\\pythondata\\lib\\site-packages (from tensorboard<2.9,>=2.8->tensorflow) (3.3.6)\n",
      "Collecting google-auth<3,>=1.6.3\n",
      "  Downloading google_auth-2.6.0-py2.py3-none-any.whl (156 kB)\n",
      "     -------------------------------------- 156.3/156.3 KB 9.1 MB/s eta 0:00:00\n",
      "Collecting cachetools<6.0,>=2.0.0\n",
      "  Downloading cachetools-5.0.0-py3-none-any.whl (9.1 kB)\n",
      "Collecting pyasn1-modules>=0.2.1\n",
      "  Downloading pyasn1_modules-0.2.8-py2.py3-none-any.whl (155 kB)\n",
      "     -------------------------------------- 155.3/155.3 KB 9.1 MB/s eta 0:00:00\n",
      "Collecting rsa<5,>=3.1.4\n",
      "  Downloading rsa-4.8-py3-none-any.whl (39 kB)\n",
      "Collecting requests-oauthlib>=0.7.0\n",
      "  Downloading requests_oauthlib-1.3.1-py2.py3-none-any.whl (23 kB)\n",
      "Requirement already satisfied: importlib-metadata>=4.4 in c:\\users\\01ram\\anaconda3\\envs\\pythondata\\lib\\site-packages (from markdown>=2.6.8->tensorboard<2.9,>=2.8->tensorflow) (4.10.1)\n",
      "Requirement already satisfied: idna<3,>=2.5 in c:\\users\\01ram\\anaconda3\\envs\\pythondata\\lib\\site-packages (from requests<3,>=2.21.0->tensorboard<2.9,>=2.8->tensorflow) (2.10)\n",
      "Requirement already satisfied: certifi>=2017.4.17 in c:\\users\\01ram\\anaconda3\\envs\\pythondata\\lib\\site-packages (from requests<3,>=2.21.0->tensorboard<2.9,>=2.8->tensorflow) (2020.12.5)\n",
      "Requirement already satisfied: chardet<5,>=3.0.2 in c:\\users\\01ram\\anaconda3\\envs\\pythondata\\lib\\site-packages (from requests<3,>=2.21.0->tensorboard<2.9,>=2.8->tensorflow) (4.0.0)\n",
      "Requirement already satisfied: urllib3<1.27,>=1.21.1 in c:\\users\\01ram\\anaconda3\\envs\\pythondata\\lib\\site-packages (from requests<3,>=2.21.0->tensorboard<2.9,>=2.8->tensorflow) (1.26.4)\n",
      "Requirement already satisfied: zipp>=0.5 in c:\\users\\01ram\\anaconda3\\envs\\pythondata\\lib\\site-packages (from importlib-metadata>=4.4->markdown>=2.6.8->tensorboard<2.9,>=2.8->tensorflow) (3.4.1)Note: you may need to restart the kernel to use updated packages.\n"
     ]
    },
    {
     "name": "stderr",
     "output_type": "stream",
     "text": [
      "WARNING: You are using pip version 22.0.2; however, version 22.0.3 is available.\n",
      "You should consider upgrading via the 'C:\\Users\\01ram\\anaconda3\\envs\\PythonData\\python.exe -m pip install --upgrade pip' command.\n"
     ]
    },
    {
     "name": "stdout",
     "output_type": "stream",
     "text": [
      "\n",
      "Collecting pyasn1<0.5.0,>=0.4.6\n",
      "  Downloading pyasn1-0.4.8-py2.py3-none-any.whl (77 kB)\n",
      "     ---------------------------------------- 77.1/77.1 KB 4.2 MB/s eta 0:00:00\n",
      "Collecting oauthlib>=3.0.0\n",
      "  Downloading oauthlib-3.2.0-py3-none-any.whl (151 kB)\n",
      "     -------------------------------------- 151.5/151.5 KB 8.8 MB/s eta 0:00:00\n",
      "Building wheels for collected packages: termcolor\n",
      "  Building wheel for termcolor (setup.py): started\n",
      "  Building wheel for termcolor (setup.py): finished with status 'done'\n",
      "  Created wheel for termcolor: filename=termcolor-1.1.0-py3-none-any.whl size=4829 sha256=76e52ff76c55b45dc3f22883000cb6ada9d33e9b914388b7962e8e40cdf322f2\n",
      "  Stored in directory: c:\\users\\01ram\\appdata\\local\\pip\\cache\\wheels\\3f\\e3\\ec\\8a8336ff196023622fbcb36de0c5a5c218cbb24111d1d4c7f2\n",
      "Successfully built termcolor\n",
      "Installing collected packages: tf-estimator-nightly, termcolor, tensorboard-plugin-wit, pyasn1, libclang, keras, flatbuffers, tensorflow-io-gcs-filesystem, tensorboard-data-server, rsa, pyasn1-modules, protobuf, opt-einsum, oauthlib, keras-preprocessing, grpcio, google-pasta, gast, cachetools, astunparse, absl-py, requests-oauthlib, google-auth, google-auth-oauthlib, tensorboard, tensorflow\n",
      "Successfully installed absl-py-1.0.0 astunparse-1.6.3 cachetools-5.0.0 flatbuffers-2.0 gast-0.5.3 google-auth-2.6.0 google-auth-oauthlib-0.4.6 google-pasta-0.2.0 grpcio-1.43.0 keras-2.8.0 keras-preprocessing-1.1.2 libclang-13.0.0 oauthlib-3.2.0 opt-einsum-3.3.0 protobuf-3.19.4 pyasn1-0.4.8 pyasn1-modules-0.2.8 requests-oauthlib-1.3.1 rsa-4.8 tensorboard-2.8.0 tensorboard-data-server-0.6.1 tensorboard-plugin-wit-1.8.1 tensorflow-2.8.0 tensorflow-io-gcs-filesystem-0.24.0 termcolor-1.1.0 tf-estimator-nightly-2.8.0.dev2021122109\n"
     ]
    }
   ],
   "source": [
    "pip install tensorflow "
   ]
  },
  {
   "cell_type": "code",
   "execution_count": 2,
   "id": "17b4f7fa",
   "metadata": {},
   "outputs": [
    {
     "name": "stdout",
     "output_type": "stream",
     "text": [
      "Collecting matplot\n",
      "  Downloading matplot-0.1.9-py2.py3-none-any.whl (5.0 kB)\n",
      "Note: you may need to restart the kernel to use updated packages.Requirement already satisfied: matplotlib>=3.1.1 in c:\\users\\01ram\\anaconda3\\envs\\pythondata\\lib\\site-packages (from matplot) (3.3.4)\n",
      "Collecting pyloco>=0.0.134\n",
      "  Downloading pyloco-0.0.139-py2.py3-none-any.whl (60 kB)\n",
      "     ---------------------------------------- 60.2/60.2 KB 1.6 MB/s eta 0:00:00\n",
      "Requirement already satisfied: cycler>=0.10 in c:\\users\\01ram\\anaconda3\\envs\\pythondata\\lib\\site-packages (from matplotlib>=3.1.1->matplot) (0.10.0)\n",
      "Requirement already satisfied: kiwisolver>=1.0.1 in c:\\users\\01ram\\anaconda3\\envs\\pythondata\\lib\\site-packages (from matplotlib>=3.1.1->matplot) (1.3.1)\n",
      "Requirement already satisfied: pyparsing!=2.0.4,!=2.1.2,!=2.1.6,>=2.0.3 in c:\\users\\01ram\\anaconda3\\envs\\pythondata\\lib\\site-packages (from matplotlib>=3.1.1->matplot) (2.4.7)\n",
      "Requirement already satisfied: numpy>=1.15 in c:\\users\\01ram\\anaconda3\\envs\\pythondata\\lib\\site-packages (from matplotlib>=3.1.1->matplot) (1.20.1)\n",
      "Requirement already satisfied: pillow>=6.2.0 in c:\\users\\01ram\\anaconda3\\envs\\pythondata\\lib\\site-packages (from matplotlib>=3.1.1->matplot) (8.2.0)\n",
      "Requirement already satisfied: python-dateutil>=2.1 in c:\\users\\01ram\\anaconda3\\envs\\pythondata\\lib\\site-packages (from matplotlib>=3.1.1->matplot) (2.8.1)\n",
      "Collecting typing\n",
      "  Downloading typing-3.7.4.3.tar.gz (78 kB)\n",
      "     ---------------------------------------- 78.6/78.6 KB 4.3 MB/s eta 0:00:00\n",
      "  Preparing metadata (setup.py): started\n",
      "  Preparing metadata (setup.py): finished with status 'done'\n",
      "Collecting SimpleWebSocketServer\n",
      "  Downloading SimpleWebsocketServer-0.1.1.tar.gz (8.0 kB)\n",
      "  Preparing metadata (setup.py): started\n",
      "  Preparing metadata (setup.py): finished with status 'done'\n",
      "Collecting websocket-client\n",
      "  Downloading websocket_client-1.2.3-py3-none-any.whl (53 kB)\n",
      "     ---------------------------------------- 53.5/53.5 KB ? eta 0:00:00\n",
      "Collecting ushlex\n",
      "\n",
      "  Downloading ushlex-0.99.1.tar.gz (4.7 kB)\n",
      "  Preparing metadata (setup.py): started\n",
      "  Preparing metadata (setup.py): finished with status 'done'\n",
      "Collecting twine\n",
      "  Downloading twine-3.8.0-py3-none-any.whl (36 kB)\n",
      "Requirement already satisfied: six in c:\\users\\01ram\\anaconda3\\envs\\pythondata\\lib\\site-packages (from cycler>=0.10->matplotlib>=3.1.1->matplot) (1.15.0)\n",
      "Requirement already satisfied: urllib3>=1.26.0 in c:\\users\\01ram\\anaconda3\\envs\\pythondata\\lib\\site-packages (from twine->pyloco>=0.0.134->matplot) (1.26.4)\n",
      "Collecting rfc3986>=1.4.0\n",
      "  Downloading rfc3986-2.0.0-py2.py3-none-any.whl (31 kB)\n",
      "Collecting pkginfo>=1.8.1\n",
      "  Downloading pkginfo-1.8.2-py2.py3-none-any.whl (26 kB)\n",
      "Collecting requests-toolbelt!=0.9.0,>=0.8.0\n",
      "  Downloading requests_toolbelt-0.9.1-py2.py3-none-any.whl (54 kB)\n",
      "     ---------------------------------------- 54.3/54.3 KB ? eta 0:00:00\n",
      "Requirement already satisfied: colorama>=0.4.3 in c:\\users\\01ram\\anaconda3\\envs\\pythondata\\lib\\site-packages (from twine->pyloco>=0.0.134->matplot) (0.4.4)\n",
      "Requirement already satisfied: tqdm>=4.14 in c:\\users\\01ram\\anaconda3\\envs\\pythondata\\lib\\site-packages (from twine->pyloco>=0.0.134->matplot) (4.59.0)\n",
      "Requirement already satisfied: keyring>=15.1 in c:\\users\\01ram\\anaconda3\\envs\\pythondata\\lib\\site-packages (from twine->pyloco>=0.0.134->matplot) (22.3.0)\n",
      "Requirement already satisfied: importlib-metadata>=3.6 in c:\\users\\01ram\\anaconda3\\envs\\pythondata\\lib\\site-packages (from twine->pyloco>=0.0.134->matplot) (4.10.1)\n",
      "Collecting readme-renderer>=21.0\n",
      "  Downloading readme_renderer-32.0-py3-none-any.whl (16 kB)\n",
      "Requirement already satisfied: requests>=2.20 in c:\\users\\01ram\\anaconda3\\envs\\pythondata\\lib\\site-packages (from twine->pyloco>=0.0.134->matplot) (2.25.1)\n",
      "Requirement already satisfied: zipp>=0.5 in c:\\users\\01ram\\anaconda3\\envs\\pythondata\\lib\\site-packages (from importlib-metadata>=3.6->twine->pyloco>=0.0.134->matplot) (3.4.1)\n",
      "Requirement already satisfied: typing-extensions>=3.6.4 in c:\\users\\01ram\\anaconda3\\envs\\pythondata\\lib\\site-packages (from importlib-metadata>=3.6->twine->pyloco>=0.0.134->matplot) (4.0.1)\n",
      "Requirement already satisfied: pywin32-ctypes!=0.1.0,!=0.1.1 in c:\\users\\01ram\\anaconda3\\envs\\pythondata\\lib\\site-packages (from keyring>=15.1->twine->pyloco>=0.0.134->matplot) (0.2.0)\n",
      "Requirement already satisfied: docutils>=0.13.1 in c:\\users\\01ram\\anaconda3\\envs\\pythondata\\lib\\site-packages (from readme-renderer>=21.0->twine->pyloco>=0.0.134->matplot) (0.17)\n",
      "Requirement already satisfied: Pygments>=2.5.1 in c:\\users\\01ram\\anaconda3\\envs\\pythondata\\lib\\site-packages (from readme-renderer>=21.0->twine->pyloco>=0.0.134->matplot) (2.8.1)\n",
      "Requirement already satisfied: bleach>=2.1.0 in c:\\users\\01ram\\anaconda3\\envs\\pythondata\\lib\\site-packages (from readme-renderer>=21.0->twine->pyloco>=0.0.134->matplot) (3.3.0)\n",
      "Requirement already satisfied: idna<3,>=2.5 in c:\\users\\01ram\\anaconda3\\envs\\pythondata\\lib\\site-packages (from requests>=2.20->twine->pyloco>=0.0.134->matplot) (2.10)\n",
      "Requirement already satisfied: certifi>=2017.4.17 in c:\\users\\01ram\\anaconda3\\envs\\pythondata\\lib\\site-packages (from requests>=2.20->twine->pyloco>=0.0.134->matplot) (2020.12.5)\n",
      "Requirement already satisfied: chardet<5,>=3.0.2 in c:\\users\\01ram\\anaconda3\\envs\\pythondata\\lib\\site-packages (from requests>=2.20->twine->pyloco>=0.0.134->matplot) (4.0.0)\n",
      "Requirement already satisfied: packaging in c:\\users\\01ram\\anaconda3\\envs\\pythondata\\lib\\site-packages (from bleach>=2.1.0->readme-renderer>=21.0->twine->pyloco>=0.0.134->matplot) (20.9)\n",
      "Requirement already satisfied: webencodings in c:\\users\\01ram\\anaconda3\\envs\\pythondata\\lib\\site-packages (from bleach>=2.1.0->readme-renderer>=21.0->twine->pyloco>=0.0.134->matplot) (0.5.1)\n",
      "Building wheels for collected packages: SimpleWebSocketServer, typing, ushlex\n",
      "  Building wheel for SimpleWebSocketServer (setup.py): started\n",
      "  Building wheel for SimpleWebSocketServer (setup.py): finished with status 'done'\n",
      "  Created wheel for SimpleWebSocketServer: filename=SimpleWebSocketServer-0.1.1-py3-none-any.whl size=9492 sha256=901a8cb32f164f0089bfb13aa2ffd98d7935b0a1c5463b6a7ec53864b2576d43\n",
      "  Stored in directory: c:\\users\\01ram\\appdata\\local\\pip\\cache\\wheels\\6f\\63\\c0\\9f45bae84b1cb10177012cc98786d017338ff1a458536a15b6\n",
      "  Building wheel for typing (setup.py): started\n",
      "  Building wheel for typing (setup.py): finished with status 'done'\n",
      "  Created wheel for typing: filename=typing-3.7.4.3-py3-none-any.whl size=26308 sha256=a06a1e3dc0c387648ddd70b7f2cf7a4fd87a318e61ee5afcb0f1d19dab4dffd4\n",
      "  Stored in directory: c:\\users\\01ram\\appdata\\local\\pip\\cache\\wheels\\35\\f3\\15\\01aa6571f0a72ee6ae7b827c1491c37a1f72d686fd22b43b0e\n",
      "  Building wheel for ushlex (setup.py): started\n"
     ]
    },
    {
     "name": "stderr",
     "output_type": "stream",
     "text": [
      "WARNING: You are using pip version 22.0.2; however, version 22.0.3 is available.\n",
      "You should consider upgrading via the 'C:\\Users\\01ram\\anaconda3\\envs\\PythonData\\python.exe -m pip install --upgrade pip' command.\n"
     ]
    },
    {
     "name": "stdout",
     "output_type": "stream",
     "text": [
      "  Building wheel for ushlex (setup.py): finished with status 'done'\n",
      "  Created wheel for ushlex: filename=ushlex-0.99.1-py3-none-any.whl size=4415 sha256=448b7018c87e4ebf59544dbcbb54fa3c10307626bda7ba6b088441b09a3fc0c2\n",
      "  Stored in directory: c:\\users\\01ram\\appdata\\local\\pip\\cache\\wheels\\58\\4f\\92\\a0da009aa0ef20cdc34a4f07e7e165569b97f5e3715bb4ae40\n",
      "Successfully built SimpleWebSocketServer typing ushlex\n",
      "Installing collected packages: ushlex, SimpleWebSocketServer, pkginfo, websocket-client, typing, rfc3986, requests-toolbelt, readme-renderer, twine, pyloco, matplot\n",
      "  Attempting uninstall: pkginfo\n",
      "    Found existing installation: pkginfo 1.7.0\n",
      "    Uninstalling pkginfo-1.7.0:\n",
      "      Successfully uninstalled pkginfo-1.7.0\n",
      "Successfully installed SimpleWebSocketServer-0.1.1 matplot-0.1.9 pkginfo-1.8.2 pyloco-0.0.139 readme-renderer-32.0 requests-toolbelt-0.9.1 rfc3986-2.0.0 twine-3.8.0 typing-3.7.4.3 ushlex-0.99.1 websocket-client-1.2.3\n"
     ]
    }
   ],
   "source": [
    "pip install matplot"
   ]
  },
  {
   "cell_type": "code",
   "execution_count": 5,
   "id": "9322080e",
   "metadata": {},
   "outputs": [
    {
     "ename": "SyntaxError",
     "evalue": "invalid syntax (<ipython-input-5-1723fdb2c092>, line 2)",
     "output_type": "error",
     "traceback": [
      "\u001b[1;36m  File \u001b[1;32m\"<ipython-input-5-1723fdb2c092>\"\u001b[1;36m, line \u001b[1;32m2\u001b[0m\n\u001b[1;33m    pip install upgrade tensorflow\u001b[0m\n\u001b[1;37m              ^\u001b[0m\n\u001b[1;31mSyntaxError\u001b[0m\u001b[1;31m:\u001b[0m invalid syntax\n"
     ]
    }
   ],
   "source": [
    "# Installs latest version of TensorFlow 2.X \n",
    "pip install upgrade tensorflow"
   ]
  },
  {
   "cell_type": "code",
   "execution_count": 5,
   "id": "e0348b16",
   "metadata": {},
   "outputs": [
    {
     "ename": "NameError",
     "evalue": "name 'nn_new' is not defined",
     "output_type": "error",
     "traceback": [
      "\u001b[1;31m---------------------------------------------------------------------------\u001b[0m",
      "\u001b[1;31mNameError\u001b[0m                                 Traceback (most recent call last)",
      "\u001b[1;32m<ipython-input-5-5c5d638d8c9a>\u001b[0m in \u001b[0;36m<module>\u001b[1;34m\u001b[0m\n\u001b[0;32m      1\u001b[0m \u001b[1;31m# Export our model to HDF5 file\u001b[0m\u001b[1;33m\u001b[0m\u001b[1;33m\u001b[0m\u001b[1;33m\u001b[0m\u001b[0m\n\u001b[1;32m----> 2\u001b[1;33m \u001b[0mnn_new\u001b[0m\u001b[1;33m.\u001b[0m\u001b[0msave\u001b[0m\u001b[1;33m(\u001b[0m\u001b[1;34m\"trained_attrition.h5\"\u001b[0m\u001b[1;33m)\u001b[0m\u001b[1;33m\u001b[0m\u001b[1;33m\u001b[0m\u001b[0m\n\u001b[0m",
      "\u001b[1;31mNameError\u001b[0m: name 'nn_new' is not defined"
     ]
    }
   ],
   "source": [
    "# Export our model to HDF5 file\n",
    "nn_new.save(\"trained_attrition.h5\")"
   ]
  },
  {
   "cell_type": "code",
   "execution_count": 2,
   "id": "48e436f5",
   "metadata": {},
   "outputs": [],
   "source": [
    "import h5py"
   ]
  },
  {
   "cell_type": "code",
   "execution_count": 3,
   "id": "4eb58b4a",
   "metadata": {},
   "outputs": [],
   "source": [
    "import numpy as np"
   ]
  },
  {
   "cell_type": "code",
   "execution_count": 4,
   "id": "0ddb9aa1",
   "metadata": {},
   "outputs": [
    {
     "ename": "NameError",
     "evalue": "name 'nn_new' is not defined",
     "output_type": "error",
     "traceback": [
      "\u001b[1;31m---------------------------------------------------------------------------\u001b[0m",
      "\u001b[1;31mNameError\u001b[0m                                 Traceback (most recent call last)",
      "\u001b[1;32m<ipython-input-4-5c5d638d8c9a>\u001b[0m in \u001b[0;36m<module>\u001b[1;34m\u001b[0m\n\u001b[0;32m      1\u001b[0m \u001b[1;31m# Export our model to HDF5 file\u001b[0m\u001b[1;33m\u001b[0m\u001b[1;33m\u001b[0m\u001b[1;33m\u001b[0m\u001b[0m\n\u001b[1;32m----> 2\u001b[1;33m \u001b[0mnn_new\u001b[0m\u001b[1;33m.\u001b[0m\u001b[0msave\u001b[0m\u001b[1;33m(\u001b[0m\u001b[1;34m\"trained_attrition.h5\"\u001b[0m\u001b[1;33m)\u001b[0m\u001b[1;33m\u001b[0m\u001b[1;33m\u001b[0m\u001b[0m\n\u001b[0m",
      "\u001b[1;31mNameError\u001b[0m: name 'nn_new' is not defined"
     ]
    }
   ],
   "source": [
    "# Export our model to HDF5 file\n",
    "nn_new.save(\"trained_attrition.h5\")"
   ]
  },
  {
   "cell_type": "code",
   "execution_count": null,
   "id": "7f3274d0",
   "metadata": {},
   "outputs": [],
   "source": []
  }
 ],
 "metadata": {
  "kernelspec": {
   "display_name": "PythonData",
   "language": "python",
   "name": "pythondata"
  },
  "language_info": {
   "codemirror_mode": {
    "name": "ipython",
    "version": 3
   },
   "file_extension": ".py",
   "mimetype": "text/x-python",
   "name": "python",
   "nbconvert_exporter": "python",
   "pygments_lexer": "ipython3",
   "version": "3.7.10"
  }
 },
 "nbformat": 4,
 "nbformat_minor": 5
}
